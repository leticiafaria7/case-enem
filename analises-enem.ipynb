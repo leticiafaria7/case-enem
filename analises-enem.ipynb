{
 "cells": [
  {
   "attachments": {},
   "cell_type": "markdown",
   "metadata": {},
   "source": [
    "# Case Enem\n",
    "\n",
    "**Problema:** como lidar com os NAs da coluna NU_NOTA_MT? se precisasse das notas desaparecidas dessa coluna, qual seria o tratamento?\n",
    "<br>\n",
    "\n",
    "**Observações:**\n",
    "1. O número de matrícula é referente ao Enem 2016, trata-se de uma máscara e não o seu número de inscrição original no Enem. O mesmo NU_INSCRICAO para anos diferentes não identifica o mesmo participante no exame, não permite o acesso aos dados cadastrais como nome, endereço, RG etc, nem identifica o mesmo participante em microdados de pesquisas diferentes.\n",
    "2. A idade é referente à idade do inscrito em 31/12/2016. Idades inferiores a 10 anos e superiores a 100 anos estão com o campo vazio na base."
   ]
  },
  {
   "cell_type": "code",
   "execution_count": 2,
   "metadata": {},
   "outputs": [],
   "source": [
    "# importar as bibliotecas\n",
    "\n",
    "import pandas as pd\n",
    "import numpy as np\n",
    "import seaborn as sns\n",
    "import matplotlib.pyplot as plt\n",
    "\n",
    "%matplotlib inline"
   ]
  },
  {
   "cell_type": "code",
   "execution_count": 22,
   "metadata": {},
   "outputs": [],
   "source": [
    "# ler as bases de dados\n",
    "\n",
    "dicionario_colunas = pd.read_excel('dicionario_colunas_enem_alterado.xlsx')\n",
    "base_enem = pd.read_excel('enem.xlsx')"
   ]
  },
  {
   "attachments": {},
   "cell_type": "markdown",
   "metadata": {},
   "source": [
    "## tratamento das bases"
   ]
  },
  {
   "cell_type": "code",
   "execution_count": 23,
   "metadata": {},
   "outputs": [
    {
     "data": {
      "text/html": [
       "<div>\n",
       "<style scoped>\n",
       "    .dataframe tbody tr th:only-of-type {\n",
       "        vertical-align: middle;\n",
       "    }\n",
       "\n",
       "    .dataframe tbody tr th {\n",
       "        vertical-align: top;\n",
       "    }\n",
       "\n",
       "    .dataframe thead th {\n",
       "        text-align: right;\n",
       "    }\n",
       "</style>\n",
       "<table border=\"1\" class=\"dataframe\">\n",
       "  <thead>\n",
       "    <tr style=\"text-align: right;\">\n",
       "      <th></th>\n",
       "      <th>base</th>\n",
       "      <th>n_colunas</th>\n",
       "      <th>n_linhas</th>\n",
       "    </tr>\n",
       "  </thead>\n",
       "  <tbody>\n",
       "    <tr>\n",
       "      <th>0</th>\n",
       "      <td>base_enem</td>\n",
       "      <td>29</td>\n",
       "      <td>18306</td>\n",
       "    </tr>\n",
       "    <tr>\n",
       "      <th>1</th>\n",
       "      <td>dicionario_colunas</td>\n",
       "      <td>7</td>\n",
       "      <td>130</td>\n",
       "    </tr>\n",
       "  </tbody>\n",
       "</table>\n",
       "</div>"
      ],
      "text/plain": [
       "                 base  n_colunas  n_linhas\n",
       "0           base_enem         29     18306\n",
       "1  dicionario_colunas          7       130"
      ]
     },
     "execution_count": 23,
     "metadata": {},
     "output_type": "execute_result"
    }
   ],
   "source": [
    "# checar o número de linhas e de colunas de cada dataframe\n",
    "\n",
    "pd.DataFrame({\n",
    "    'base': ['base_enem', 'dicionario_colunas'],\n",
    "    'n_colunas': [len(base_enem.columns), len(dicionario_colunas.columns)],\n",
    "    'n_linhas': [len(base_enem), len(dicionario_colunas)]\n",
    "})\n"
   ]
  },
  {
   "cell_type": "code",
   "execution_count": 38,
   "metadata": {},
   "outputs": [
    {
     "data": {
      "text/html": [
       "<div>\n",
       "<style scoped>\n",
       "    .dataframe tbody tr th:only-of-type {\n",
       "        vertical-align: middle;\n",
       "    }\n",
       "\n",
       "    .dataframe tbody tr th {\n",
       "        vertical-align: top;\n",
       "    }\n",
       "\n",
       "    .dataframe thead th {\n",
       "        text-align: right;\n",
       "    }\n",
       "</style>\n",
       "<table border=\"1\" class=\"dataframe\">\n",
       "  <thead>\n",
       "    <tr style=\"text-align: right;\">\n",
       "      <th></th>\n",
       "      <th>variavel</th>\n",
       "      <th>descricao_variavel</th>\n",
       "      <th>categoria</th>\n",
       "      <th>descricao_categoria</th>\n",
       "      <th>n_caracteres</th>\n",
       "      <th>tipo_variavel</th>\n",
       "      <th>tipo_dado</th>\n",
       "    </tr>\n",
       "  </thead>\n",
       "  <tbody>\n",
       "    <tr>\n",
       "      <th>0</th>\n",
       "      <td>NU_INSCRICAO</td>\n",
       "      <td>Número de inscrição1</td>\n",
       "      <td>NaN</td>\n",
       "      <td>NaN</td>\n",
       "      <td>12</td>\n",
       "      <td>Numérica</td>\n",
       "      <td>participante</td>\n",
       "    </tr>\n",
       "    <tr>\n",
       "      <th>1</th>\n",
       "      <td>SG_UF_RESIDENCIA</td>\n",
       "      <td>Sigla da Unidade da Federação de residência</td>\n",
       "      <td>NaN</td>\n",
       "      <td>NaN</td>\n",
       "      <td>2</td>\n",
       "      <td>Alfanumérica</td>\n",
       "      <td>participante</td>\n",
       "    </tr>\n",
       "    <tr>\n",
       "      <th>2</th>\n",
       "      <td>NU_IDADE</td>\n",
       "      <td>Idade2</td>\n",
       "      <td>NaN</td>\n",
       "      <td>NaN</td>\n",
       "      <td>3</td>\n",
       "      <td>Numérica</td>\n",
       "      <td>participante</td>\n",
       "    </tr>\n",
       "    <tr>\n",
       "      <th>3</th>\n",
       "      <td>TP_SEXO</td>\n",
       "      <td>Sexo</td>\n",
       "      <td>M</td>\n",
       "      <td>Masculino</td>\n",
       "      <td>1</td>\n",
       "      <td>Alfanumérica</td>\n",
       "      <td>participante</td>\n",
       "    </tr>\n",
       "    <tr>\n",
       "      <th>4</th>\n",
       "      <td>TP_SEXO</td>\n",
       "      <td>Sexo</td>\n",
       "      <td>F</td>\n",
       "      <td>Feminino</td>\n",
       "      <td>1</td>\n",
       "      <td>Alfanumérica</td>\n",
       "      <td>participante</td>\n",
       "    </tr>\n",
       "  </tbody>\n",
       "</table>\n",
       "</div>"
      ],
      "text/plain": [
       "           variavel                           descricao_variavel categoria  \\\n",
       "0      NU_INSCRICAO                        Número de inscrição1        NaN   \n",
       "1  SG_UF_RESIDENCIA  Sigla da Unidade da Federação de residência       NaN   \n",
       "2          NU_IDADE                                       Idade2       NaN   \n",
       "3           TP_SEXO                                         Sexo         M   \n",
       "4           TP_SEXO                                         Sexo         F   \n",
       "\n",
       "  descricao_categoria  n_caracteres tipo_variavel     tipo_dado  \n",
       "0                 NaN            12      Numérica  participante  \n",
       "1                 NaN             2  Alfanumérica  participante  \n",
       "2                 NaN             3      Numérica  participante  \n",
       "3           Masculino             1  Alfanumérica  participante  \n",
       "4           Feminino              1  Alfanumérica  participante  "
      ]
     },
     "execution_count": 38,
     "metadata": {},
     "output_type": "execute_result"
    }
   ],
   "source": [
    "# verificar a base de dados dicionario_colunas\n",
    "\n",
    "dicionario_colunas.head()"
   ]
  },
  {
   "cell_type": "code",
   "execution_count": 47,
   "metadata": {},
   "outputs": [
    {
     "data": {
      "text/html": [
       "<div>\n",
       "<style scoped>\n",
       "    .dataframe tbody tr th:only-of-type {\n",
       "        vertical-align: middle;\n",
       "    }\n",
       "\n",
       "    .dataframe tbody tr th {\n",
       "        vertical-align: top;\n",
       "    }\n",
       "\n",
       "    .dataframe thead th {\n",
       "        text-align: right;\n",
       "    }\n",
       "</style>\n",
       "<table border=\"1\" class=\"dataframe\">\n",
       "  <thead>\n",
       "    <tr style=\"text-align: right;\">\n",
       "      <th></th>\n",
       "      <th>variavel</th>\n",
       "      <th>descricao_variavel</th>\n",
       "    </tr>\n",
       "  </thead>\n",
       "  <tbody>\n",
       "    <tr>\n",
       "      <th>0</th>\n",
       "      <td>NU_INSCRICAO</td>\n",
       "      <td>Número de inscrição1</td>\n",
       "    </tr>\n",
       "    <tr>\n",
       "      <th>1</th>\n",
       "      <td>SG_UF_RESIDENCIA</td>\n",
       "      <td>Sigla da Unidade da Federação de residência</td>\n",
       "    </tr>\n",
       "    <tr>\n",
       "      <th>2</th>\n",
       "      <td>NU_IDADE</td>\n",
       "      <td>Idade2</td>\n",
       "    </tr>\n",
       "    <tr>\n",
       "      <th>3</th>\n",
       "      <td>TP_SEXO</td>\n",
       "      <td>Sexo</td>\n",
       "    </tr>\n",
       "    <tr>\n",
       "      <th>4</th>\n",
       "      <td>TP_COR_RACA</td>\n",
       "      <td>Cor/raça</td>\n",
       "    </tr>\n",
       "    <tr>\n",
       "      <th>5</th>\n",
       "      <td>TP_NACIONALIDADE</td>\n",
       "      <td>Nacionalidade</td>\n",
       "    </tr>\n",
       "    <tr>\n",
       "      <th>6</th>\n",
       "      <td>TP_ST_CONCLUSAO</td>\n",
       "      <td>Situação de conclusão do Ensino Médio</td>\n",
       "    </tr>\n",
       "    <tr>\n",
       "      <th>7</th>\n",
       "      <td>TP_ANO_CONCLUIU</td>\n",
       "      <td>Ano de Conclusão do Ensino Médio</td>\n",
       "    </tr>\n",
       "    <tr>\n",
       "      <th>8</th>\n",
       "      <td>TP_ESCOLA</td>\n",
       "      <td>Tipo de escola do Ensino Médio</td>\n",
       "    </tr>\n",
       "    <tr>\n",
       "      <th>9</th>\n",
       "      <td>TP_ENSINO</td>\n",
       "      <td>Tipo de instituição que concluiu ou concluirá ...</td>\n",
       "    </tr>\n",
       "    <tr>\n",
       "      <th>10</th>\n",
       "      <td>TP_DEPENDENCIA_ADM_ESC</td>\n",
       "      <td>Dependência administrativa (Escola)</td>\n",
       "    </tr>\n",
       "    <tr>\n",
       "      <th>11</th>\n",
       "      <td>TP_PRESENCA_CN</td>\n",
       "      <td>Presença na prova objetiva de Ciências da Natu...</td>\n",
       "    </tr>\n",
       "    <tr>\n",
       "      <th>12</th>\n",
       "      <td>TP_PRESENCA_CH</td>\n",
       "      <td>Presença na prova objetiva de Ciências Humanas</td>\n",
       "    </tr>\n",
       "    <tr>\n",
       "      <th>13</th>\n",
       "      <td>TP_PRESENCA_LC</td>\n",
       "      <td>Presença na prova objetiva de Linguagens e Cód...</td>\n",
       "    </tr>\n",
       "    <tr>\n",
       "      <th>14</th>\n",
       "      <td>NU_NOTA_CN</td>\n",
       "      <td>Nota da prova de Ciências da Natureza</td>\n",
       "    </tr>\n",
       "    <tr>\n",
       "      <th>15</th>\n",
       "      <td>NU_NOTA_CH</td>\n",
       "      <td>Nota da prova de Ciências Humanas</td>\n",
       "    </tr>\n",
       "    <tr>\n",
       "      <th>16</th>\n",
       "      <td>NU_NOTA_LC</td>\n",
       "      <td>Nota da prova de Linguagens e Códigos</td>\n",
       "    </tr>\n",
       "    <tr>\n",
       "      <th>17</th>\n",
       "      <td>NU_NOTA_MT</td>\n",
       "      <td>Nota da prova de Matemática</td>\n",
       "    </tr>\n",
       "    <tr>\n",
       "      <th>18</th>\n",
       "      <td>TP_LINGUA</td>\n",
       "      <td>Língua Estrangeira</td>\n",
       "    </tr>\n",
       "    <tr>\n",
       "      <th>19</th>\n",
       "      <td>TP_STATUS_REDACAO</td>\n",
       "      <td>Situação da redação do participante</td>\n",
       "    </tr>\n",
       "    <tr>\n",
       "      <th>20</th>\n",
       "      <td>NU_NOTA_REDACAO</td>\n",
       "      <td>Nota da prova de redação</td>\n",
       "    </tr>\n",
       "    <tr>\n",
       "      <th>21</th>\n",
       "      <td>Q001</td>\n",
       "      <td>Até que série seu pai, ou o homem responsável ...</td>\n",
       "    </tr>\n",
       "    <tr>\n",
       "      <th>22</th>\n",
       "      <td>Q002</td>\n",
       "      <td>Até que série sua mãe, ou a mulher responsável...</td>\n",
       "    </tr>\n",
       "    <tr>\n",
       "      <th>23</th>\n",
       "      <td>Q006</td>\n",
       "      <td>Qual é a renda mensal de sua família? (Some a ...</td>\n",
       "    </tr>\n",
       "    <tr>\n",
       "      <th>24</th>\n",
       "      <td>Q024</td>\n",
       "      <td>Na sua residência tem computador?</td>\n",
       "    </tr>\n",
       "    <tr>\n",
       "      <th>25</th>\n",
       "      <td>Q026</td>\n",
       "      <td>Você exerce ou já exerceu atividade remunerada?</td>\n",
       "    </tr>\n",
       "    <tr>\n",
       "      <th>26</th>\n",
       "      <td>Q027</td>\n",
       "      <td>Com que idade você começou a exercer uma ativi...</td>\n",
       "    </tr>\n",
       "    <tr>\n",
       "      <th>27</th>\n",
       "      <td>Q047</td>\n",
       "      <td>Em que tipo de escola você frequentou o Ensino...</td>\n",
       "    </tr>\n",
       "  </tbody>\n",
       "</table>\n",
       "</div>"
      ],
      "text/plain": [
       "                  variavel                                 descricao_variavel\n",
       "0             NU_INSCRICAO                              Número de inscrição1 \n",
       "1         SG_UF_RESIDENCIA        Sigla da Unidade da Federação de residência\n",
       "2                 NU_IDADE                                             Idade2\n",
       "3                  TP_SEXO                                               Sexo\n",
       "4              TP_COR_RACA                                           Cor/raça\n",
       "5         TP_NACIONALIDADE                                      Nacionalidade\n",
       "6          TP_ST_CONCLUSAO              Situação de conclusão do Ensino Médio\n",
       "7          TP_ANO_CONCLUIU                   Ano de Conclusão do Ensino Médio\n",
       "8                TP_ESCOLA                     Tipo de escola do Ensino Médio\n",
       "9                TP_ENSINO  Tipo de instituição que concluiu ou concluirá ...\n",
       "10  TP_DEPENDENCIA_ADM_ESC                Dependência administrativa (Escola)\n",
       "11          TP_PRESENCA_CN  Presença na prova objetiva de Ciências da Natu...\n",
       "12          TP_PRESENCA_CH     Presença na prova objetiva de Ciências Humanas\n",
       "13          TP_PRESENCA_LC  Presença na prova objetiva de Linguagens e Cód...\n",
       "14              NU_NOTA_CN              Nota da prova de Ciências da Natureza\n",
       "15              NU_NOTA_CH                  Nota da prova de Ciências Humanas\n",
       "16              NU_NOTA_LC              Nota da prova de Linguagens e Códigos\n",
       "17              NU_NOTA_MT                        Nota da prova de Matemática\n",
       "18               TP_LINGUA                                Língua Estrangeira \n",
       "19       TP_STATUS_REDACAO                Situação da redação do participante\n",
       "20         NU_NOTA_REDACAO                           Nota da prova de redação\n",
       "21                    Q001  Até que série seu pai, ou o homem responsável ...\n",
       "22                    Q002  Até que série sua mãe, ou a mulher responsável...\n",
       "23                    Q006  Qual é a renda mensal de sua família? (Some a ...\n",
       "24                    Q024                  Na sua residência tem computador?\n",
       "25                    Q026    Você exerce ou já exerceu atividade remunerada?\n",
       "26                    Q027  Com que idade você começou a exercer uma ativi...\n",
       "27                    Q047  Em que tipo de escola você frequentou o Ensino..."
      ]
     },
     "execution_count": 47,
     "metadata": {},
     "output_type": "execute_result"
    }
   ],
   "source": [
    "# gerar base para criar o depara\n",
    "\n",
    "get_dict = pd.DataFrame({\n",
    "    'variavel': base_enem.columns.to_list()\n",
    "})\n",
    "\n",
    "get_dict = get_dict.merge(dicionario_colunas[['variavel', 'descricao_variavel']].drop_duplicates())\n",
    "\n",
    "get_dict"
   ]
  },
  {
   "attachments": {},
   "cell_type": "markdown",
   "metadata": {},
   "source": [
    "## análise exploratória"
   ]
  },
  {
   "cell_type": "code",
   "execution_count": 26,
   "metadata": {},
   "outputs": [
    {
     "data": {
      "text/html": [
       "<div>\n",
       "<style scoped>\n",
       "    .dataframe tbody tr th:only-of-type {\n",
       "        vertical-align: middle;\n",
       "    }\n",
       "\n",
       "    .dataframe tbody tr th {\n",
       "        vertical-align: top;\n",
       "    }\n",
       "\n",
       "    .dataframe thead th {\n",
       "        text-align: right;\n",
       "    }\n",
       "</style>\n",
       "<table border=\"1\" class=\"dataframe\">\n",
       "  <thead>\n",
       "    <tr style=\"text-align: right;\">\n",
       "      <th></th>\n",
       "      <th>variavel</th>\n",
       "      <th>descricao_variavel</th>\n",
       "      <th>categoria</th>\n",
       "      <th>descricao_categoria</th>\n",
       "      <th>n_caracteres</th>\n",
       "      <th>tipo_variavel</th>\n",
       "      <th>tipo_dado</th>\n",
       "    </tr>\n",
       "  </thead>\n",
       "  <tbody>\n",
       "    <tr>\n",
       "      <th>58</th>\n",
       "      <td>NU_NOTA_MT</td>\n",
       "      <td>Nota da prova de Matemática</td>\n",
       "      <td>NaN</td>\n",
       "      <td>NaN</td>\n",
       "      <td>9</td>\n",
       "      <td>Numérica</td>\n",
       "      <td>prova objetiva</td>\n",
       "    </tr>\n",
       "  </tbody>\n",
       "</table>\n",
       "</div>"
      ],
      "text/plain": [
       "      variavel           descricao_variavel categoria descricao_categoria  \\\n",
       "58  NU_NOTA_MT  Nota da prova de Matemática       NaN                 NaN   \n",
       "\n",
       "    n_caracteres tipo_variavel       tipo_dado  \n",
       "58             9      Numérica  prova objetiva  "
      ]
     },
     "execution_count": 26,
     "metadata": {},
     "output_type": "execute_result"
    }
   ],
   "source": [
    "# o que significa a coluna a ser investigada?\n",
    "\n",
    "dicionario_colunas[dicionario_colunas['variavel'] == 'NU_NOTA_MT']"
   ]
  },
  {
   "attachments": {},
   "cell_type": "markdown",
   "metadata": {},
   "source": [
    "### verificação de NAs"
   ]
  },
  {
   "cell_type": "code",
   "execution_count": 46,
   "metadata": {},
   "outputs": [
    {
     "data": {
      "text/plain": [
       "<AxesSubplot:>"
      ]
     },
     "execution_count": 46,
     "metadata": {},
     "output_type": "execute_result"
    },
    {
     "data": {
      "image/png": "[encoded data removed]",
      "text/plain": [
       "<Figure size 1300x400 with 1 Axes>"
      ]
     },
     "metadata": {},
     "output_type": "display_data"
    }
   ],
   "source": [
    "# verificar onde estão os NAs das linhas na base_enem\n",
    "\n",
    "plt.figure(figsize = (13,4))\n",
    "sns.heatmap(base_enem.isnull(), yticklabels = False, cbar = False, cmap = ['#4d4d4d', '#ffff99'])"
   ]
  },
  {
   "attachments": {},
   "cell_type": "markdown",
   "metadata": {},
   "source": [
    "aparentemente a coluna da nota de matemática tem mais valores vazios do que as colunas das notas das outras áreas de conhecimento."
   ]
  },
  {
   "cell_type": "code",
   "execution_count": 57,
   "metadata": {},
   "outputs": [
    {
     "name": "stdout",
     "output_type": "stream",
     "text": [
      "TP_ENSINO = ['Tipo de instituição que concluiu ou concluirá o Ensino Médio ']\n",
      "TP_DEPENDENCIA_ADM_ESC = ['Dependência administrativa (Escola)']\n",
      "Q027 = ['Com que idade você começou a exercer uma atividade remunerada?']\n"
     ]
    }
   ],
   "source": [
    "# o que significam as colunas que possuem muitos valores vazios?\n",
    "\n",
    "print('TP_ENSINO =', get_dict[get_dict['variavel'] == 'TP_ENSINO']['descricao_variavel'].to_list())\n",
    "print('TP_DEPENDENCIA_ADM_ESC =', get_dict[get_dict['variavel'] == 'TP_DEPENDENCIA_ADM_ESC']['descricao_variavel'].to_list())\n",
    "print('Q027 =', get_dict[get_dict['variavel'] == 'Q027']['descricao_variavel'].to_list())"
   ]
  },
  {
   "attachments": {},
   "cell_type": "markdown",
   "metadata": {},
   "source": [
    "### distribuições das variáveis"
   ]
  },
  {
   "cell_type": "code",
   "execution_count": null,
   "metadata": {},
   "outputs": [],
   "source": []
  }
 ],
 "metadata": {
  "kernelspec": {
   "display_name": "base",
   "language": "python",
   "name": "python3"
  },
  "language_info": {
   "codemirror_mode": {
    "name": "ipython",
    "version": 3
   },
   "file_extension": ".py",
   "mimetype": "text/x-python",
   "name": "python",
   "nbconvert_exporter": "python",
   "pygments_lexer": "ipython3",
   "version": "3.9.13"
  },
  "orig_nbformat": 4
 },
 "nbformat": 4,
 "nbformat_minor": 2
}
